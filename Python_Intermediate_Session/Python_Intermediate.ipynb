{
 "cells": [
  {
   "cell_type": "markdown",
   "id": "7203571f",
   "metadata": {
    "slideshow": {
     "slide_type": "slide"
    }
   },
   "source": [
    "<h1><font color=#2a7bbd face=\"Trebuchet MS\">Python Intermediate Session</font></h1>"
   ]
  },
  {
   "cell_type": "markdown",
   "id": "bf2a589f",
   "metadata": {
    "slideshow": {
     "slide_type": "slide"
    }
   },
   "source": [
    "<h2><font color=#2a7bbd style=\"Trebuchet MS\">Indexing and Slicing</font></h2>"
   ]
  },
  {
   "cell_type": "markdown",
   "id": "18a611a5",
   "metadata": {
    "slideshow": {
     "slide_type": "subslide"
    }
   },
   "source": [
    "<img src = \"img/index_slice.png\" alt = \"Inded and Slices\" height = \"2000\" width = \"2140\" />"
   ]
  },
  {
   "cell_type": "code",
   "execution_count": 1,
   "id": "09d2aac5",
   "metadata": {
    "ExecuteTime": {
     "end_time": "2021-08-24T07:12:14.805714Z",
     "start_time": "2021-08-24T07:12:14.775687Z"
    },
    "slideshow": {
     "slide_type": "subslide"
    }
   },
   "outputs": [],
   "source": [
    "# Code"
   ]
  },
  {
   "cell_type": "markdown",
   "id": "69bb67a0",
   "metadata": {
    "slideshow": {
     "slide_type": "slide"
    }
   },
   "source": [
    "<h2><font color=#2a7bbd style=\"Trebuchet MS\">Comprehensions</font></h2>"
   ]
  },
  {
   "cell_type": "code",
   "execution_count": 2,
   "id": "12325f87",
   "metadata": {
    "ExecuteTime": {
     "end_time": "2021-08-25T05:33:02.014707Z",
     "start_time": "2021-08-25T05:33:02.003185Z"
    },
    "scrolled": true,
    "slideshow": {
     "slide_type": "subslide"
    }
   },
   "outputs": [],
   "source": [
    "# List Comprehension"
   ]
  },
  {
   "cell_type": "code",
   "execution_count": 3,
   "id": "d3099bbc",
   "metadata": {
    "ExecuteTime": {
     "end_time": "2021-08-23T07:00:37.304614Z",
     "start_time": "2021-08-23T07:00:37.282505Z"
    },
    "slideshow": {
     "slide_type": "subslide"
    }
   },
   "outputs": [],
   "source": [
    "# Set Comprehension"
   ]
  },
  {
   "cell_type": "code",
   "execution_count": 4,
   "id": "bbe0c473",
   "metadata": {
    "ExecuteTime": {
     "end_time": "2021-08-25T05:35:59.004395Z",
     "start_time": "2021-08-25T05:35:58.987568Z"
    },
    "slideshow": {
     "slide_type": "subslide"
    }
   },
   "outputs": [],
   "source": [
    "# Dictionary Comprehension"
   ]
  },
  {
   "cell_type": "markdown",
   "id": "d1fadf3f",
   "metadata": {
    "slideshow": {
     "slide_type": "slide"
    }
   },
   "source": [
    "<h2><font color=#2a7bbd style=\"Trebuchet MS\">Python Methods</font></h2>"
   ]
  },
  {
   "cell_type": "markdown",
   "id": "e38a5d89",
   "metadata": {
    "slideshow": {
     "slide_type": "subslide"
    }
   },
   "source": [
    "1. Method is called by its name, but it is associated to an object (dependent)<br><br>\n",
    "2. Method is implicitly passed the object on which it is invoked. <br><bR>\n",
    "3. It may or may not return any data.<br><br>\n",
    "4. Method can operate on the data (instance variables) that is contained by a class</font></h5>"
   ]
  },
  {
   "cell_type": "code",
   "execution_count": 6,
   "id": "d2eceb98",
   "metadata": {
    "ExecuteTime": {
     "end_time": "2021-08-24T05:13:46.778780Z",
     "start_time": "2021-08-24T05:13:46.710579Z"
    },
    "scrolled": true,
    "slideshow": {
     "slide_type": "subslide"
    }
   },
   "outputs": [],
   "source": [
    "# Code about Methods"
   ]
  },
  {
   "cell_type": "markdown",
   "id": "011302bf",
   "metadata": {
    "slideshow": {
     "slide_type": "slide"
    }
   },
   "source": [
    "<h2><font color=#2a7bbd style=\"Trebuchet MS\">String Methods</font></h2>\n",
    "\n",
    "#### string - immutable or hashable data type"
   ]
  },
  {
   "cell_type": "code",
   "execution_count": 7,
   "id": "f06c8d33",
   "metadata": {
    "ExecuteTime": {
     "end_time": "2021-08-24T07:25:25.382837Z",
     "start_time": "2021-08-24T07:25:25.318085Z"
    },
    "scrolled": false,
    "slideshow": {
     "slide_type": "subslide"
    }
   },
   "outputs": [],
   "source": [
    "# Code"
   ]
  },
  {
   "cell_type": "markdown",
   "id": "72d27cac",
   "metadata": {
    "slideshow": {
     "slide_type": "slide"
    }
   },
   "source": [
    "<h2><font color=#2a7bbd style=\"Trebuchet MS\">List Methods</font></h2>\n",
    "\n",
    "#### list - mutable or unhashable data type"
   ]
  },
  {
   "cell_type": "code",
   "execution_count": 8,
   "id": "a8fd412a",
   "metadata": {
    "ExecuteTime": {
     "end_time": "2021-08-25T06:07:14.985384Z",
     "start_time": "2021-08-25T06:07:14.965926Z"
    },
    "scrolled": false,
    "slideshow": {
     "slide_type": "subslide"
    }
   },
   "outputs": [],
   "source": [
    "# Code"
   ]
  },
  {
   "cell_type": "markdown",
   "id": "23638065",
   "metadata": {
    "slideshow": {
     "slide_type": "slide"
    }
   },
   "source": [
    "<h2><font color=#2a7bbd style=\"Trebuchet MS\">Set Methods</font></h2>"
   ]
  },
  {
   "cell_type": "code",
   "execution_count": 10,
   "id": "09457f61",
   "metadata": {
    "ExecuteTime": {
     "end_time": "2021-08-25T07:16:32.752270Z",
     "start_time": "2021-08-25T07:16:32.738815Z"
    },
    "slideshow": {
     "slide_type": "subslide"
    }
   },
   "outputs": [],
   "source": [
    "# Code"
   ]
  },
  {
   "cell_type": "markdown",
   "id": "fe2e88b6",
   "metadata": {
    "slideshow": {
     "slide_type": "slide"
    }
   },
   "source": [
    "<h2><font color=#2a7bbd style=\"Trebuchet MS\">Dictionary Methods</font></h2>"
   ]
  },
  {
   "cell_type": "code",
   "execution_count": 11,
   "id": "022f5ef9",
   "metadata": {
    "ExecuteTime": {
     "end_time": "2021-08-25T07:41:24.331766Z",
     "start_time": "2021-08-25T07:41:24.316884Z"
    },
    "slideshow": {
     "slide_type": "subslide"
    }
   },
   "outputs": [],
   "source": [
    "# Code"
   ]
  },
  {
   "cell_type": "markdown",
   "id": "50954a5e",
   "metadata": {
    "slideshow": {
     "slide_type": "slide"
    }
   },
   "source": [
    "<h2><font color=#2a7bbd style=\"Trebuchet MS\">Tuple Methods</font></h2>"
   ]
  },
  {
   "cell_type": "code",
   "execution_count": 12,
   "id": "939c5393",
   "metadata": {
    "ExecuteTime": {
     "end_time": "2021-08-25T07:43:56.109385Z",
     "start_time": "2021-08-25T07:43:56.101962Z"
    },
    "slideshow": {
     "slide_type": "subslide"
    }
   },
   "outputs": [],
   "source": [
    "# Code"
   ]
  }
 ],
 "metadata": {
  "celltoolbar": "Slideshow",
  "hide_input": false,
  "kernelspec": {
   "display_name": "Python 3 (ipykernel)",
   "language": "python",
   "name": "python3"
  },
  "language_info": {
   "codemirror_mode": {
    "name": "ipython",
    "version": 3
   },
   "file_extension": ".py",
   "mimetype": "text/x-python",
   "name": "python",
   "nbconvert_exporter": "python",
   "pygments_lexer": "ipython3",
   "version": "3.9.10"
  },
  "toc": {
   "base_numbering": 1,
   "nav_menu": {},
   "number_sections": true,
   "sideBar": true,
   "skip_h1_title": false,
   "title_cell": "Table of Contents",
   "title_sidebar": "Contents",
   "toc_cell": false,
   "toc_position": {
    "height": "calc(100% - 180px)",
    "left": "10px",
    "top": "150px",
    "width": "164.994px"
   },
   "toc_section_display": true,
   "toc_window_display": false
  },
  "varInspector": {
   "cols": {
    "lenName": 16,
    "lenType": 16,
    "lenVar": 40
   },
   "kernels_config": {
    "python": {
     "delete_cmd_postfix": "",
     "delete_cmd_prefix": "del ",
     "library": "var_list.py",
     "varRefreshCmd": "print(var_dic_list())"
    },
    "r": {
     "delete_cmd_postfix": ") ",
     "delete_cmd_prefix": "rm(",
     "library": "var_list.r",
     "varRefreshCmd": "cat(var_dic_list()) "
    }
   },
   "types_to_exclude": [
    "module",
    "function",
    "builtin_function_or_method",
    "instance",
    "_Feature"
   ],
   "window_display": false
  }
 },
 "nbformat": 4,
 "nbformat_minor": 5
}
